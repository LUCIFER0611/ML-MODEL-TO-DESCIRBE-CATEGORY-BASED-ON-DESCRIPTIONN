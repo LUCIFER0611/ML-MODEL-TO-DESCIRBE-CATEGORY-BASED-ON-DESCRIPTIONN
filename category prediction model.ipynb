{
  "nbformat": 4,
  "nbformat_minor": 0,
  "metadata": {
    "colab": {
      "provenance": []
    },
    "kernelspec": {
      "name": "python3",
      "display_name": "Python 3"
    },
    "language_info": {
      "name": "python"
    }
  },
  "cells": [
    {
      "cell_type": "code",
      "execution_count": null,
      "metadata": {
        "colab": {
          "base_uri": "https://localhost:8080/"
        },
        "id": "oq5LeEzCFoT-",
        "outputId": "baa0c7fc-6cc8-41ce-d6e2-e73072a6d49c"
      },
      "outputs": [
        {
          "output_type": "stream",
          "name": "stdout",
          "text": [
            "Drive already mounted at /content/drive; to attempt to forcibly remount, call drive.mount(\"/content/drive\", force_remount=True).\n",
            "Category\n",
            "IT                   24950\n",
            "Marketing & Sales     7380\n",
            "Operations            3283\n",
            "Other                 2767\n",
            "Finance               2275\n",
            "HR                    1698\n",
            "Training              1203\n",
            "Planning               197\n",
            "Miscellaneous          134\n",
            "Logistics               27\n",
            "Name: count, dtype: int64\n"
          ]
        },
        {
          "output_type": "stream",
          "name": "stderr",
          "text": [
            "/usr/local/lib/python3.10/dist-packages/sklearn/linear_model/_logistic.py:469: ConvergenceWarning: lbfgs failed to converge (status=1):\n",
            "STOP: TOTAL NO. of ITERATIONS REACHED LIMIT.\n",
            "\n",
            "Increase the number of iterations (max_iter) or scale the data as shown in:\n",
            "    https://scikit-learn.org/stable/modules/preprocessing.html\n",
            "Please also refer to the documentation for alternative solver options:\n",
            "    https://scikit-learn.org/stable/modules/linear_model.html#logistic-regression\n",
            "  n_iter_i = _check_optimize_result(\n"
          ]
        },
        {
          "output_type": "stream",
          "name": "stdout",
          "text": [
            "Model Accuracy: 74.94%\n",
            "Classification Report:\n",
            "                    precision    recall  f1-score   support\n",
            "\n",
            "          Finance       0.60      0.81      0.69       460\n",
            "               HR       0.73      0.73      0.73       365\n",
            "               IT       0.98      0.76      0.86      5016\n",
            "        Logistics       0.10      0.33      0.15         6\n",
            "Marketing & Sales       0.95      0.84      0.89      1473\n",
            "    Miscellaneous       0.04      0.17      0.07        30\n",
            "       Operations       0.46      0.67      0.54       650\n",
            "            Other       0.36      0.54      0.43       516\n",
            "         Planning       0.05      0.33      0.08        36\n",
            "         Training       0.34      0.68      0.45       231\n",
            "\n",
            "         accuracy                           0.75      8783\n",
            "        macro avg       0.46      0.59      0.49      8783\n",
            "     weighted avg       0.84      0.75      0.78      8783\n",
            "\n",
            "Confusion Matrix:\n",
            " [[ 372    9    8    4    2    9   17   25    6    8]\n",
            " [  14  265    1    0   11    4   16   33   12    9]\n",
            " [ 123   30 3825    5   37   52  343  262  144  195]\n",
            " [   0    0    0    2    0    1    2    1    0    0]\n",
            " [  44   20   14    1 1231    6   23   47   33   54]\n",
            " [   3    0    1    0    0    5   10    6    2    3]\n",
            " [  31    4   25    5    2   23  433   96   18   13]\n",
            " [  25   29   29    3    4   20   85  279   17   25]\n",
            " [   1    1    1    0    1    2    4    8   12    6]\n",
            " [   6    6   10    0    6    1    7   27   10  158]]\n",
            "Enter a description: Checker\n",
            "Predicted Category: Planning\n"
          ]
        }
      ],
      "source": [
        "import pandas as pd\n",
        "from sklearn.model_selection import train_test_split\n",
        "from sklearn.feature_extraction.text import TfidfVectorizer\n",
        "from sklearn.linear_model import LogisticRegression\n",
        "from sklearn.metrics import accuracy_score, classification_report, confusion_matrix\n",
        "\n",
        "from google.colab import drive\n",
        "drive.mount('/content/drive')\n",
        "\n",
        "# Load the dataset\n",
        "path=\"/content/drive/MyDrive/hex_data - dataclean_refined_data1(1).csv\"\n",
        "data = pd.read_csv(path)\n",
        "\n",
        "# Preprocess the data\n",
        "X = data['Description']\n",
        "y = data['Category']\n",
        "\n",
        "# Check class distribution\n",
        "print(y.value_counts())\n",
        "\n",
        "# Split the data into training and testing sets\n",
        "X_train, X_test, y_train, y_test = train_test_split(X, y, test_size=0.2, random_state=42)\n",
        "\n",
        "# Vectorize the text data using TF-IDF\n",
        "vectorizer = TfidfVectorizer(max_features=5000, min_df=5, ngram_range=(1,2))\n",
        "X_train_tfidf = vectorizer.fit_transform(X_train)\n",
        "X_test_tfidf = vectorizer.transform(X_test)\n",
        "\n",
        "# Train a Logistic Regression model with class weighting\n",
        "model = LogisticRegression(class_weight='balanced')\n",
        "model.fit(X_train_tfidf, y_train)\n",
        "\n",
        "# Make predictions on the test set\n",
        "y_pred = model.predict(X_test_tfidf)\n",
        "\n",
        "# Evaluate the model\n",
        "accuracy = accuracy_score(y_test, y_pred)\n",
        "print(f'Model Accuracy: {accuracy * 100:.2f}%')\n",
        "\n",
        "# Print classification report and confusion matrix\n",
        "print(\"Classification Report:\\n\", classification_report(y_test, y_pred))\n",
        "print(\"Confusion Matrix:\\n\", confusion_matrix(y_test, y_pred))\n",
        "\n",
        "# Function to predict category from user input\n",
        "def predict_category(description):\n",
        "    description_tfidf = vectorizer.transform([description])\n",
        "    prediction = model.predict(description_tfidf)\n",
        "    return prediction[0]\n",
        "\n",
        "# Example usage: input a description and predict category\n",
        "description_input = input(\"Enter a description: \")\n",
        "predicted_category = predict_category(description_input)\n",
        "print(f'Predicted Category: {predicted_category}')\n"
      ]
    }
  ]
}